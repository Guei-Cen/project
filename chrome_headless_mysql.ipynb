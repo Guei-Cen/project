{
 "cells": [
  {
   "cell_type": "code",
   "execution_count": 4,
   "metadata": {},
   "outputs": [
    {
     "name": "stdout",
     "output_type": "stream",
     "text": [
      "Database version : 8.0.17 \n"
     ]
    }
   ],
   "source": [
    "#!/usr/bin/python3\n",
    " \n",
    "import pymysql\n",
    " \n",
    "# 打开数据库连接\n",
    "db = pymysql.connect(\"127.0.0.1\",\"root\",\"mysecret1997\",\"mygopen\")\n",
    " \n",
    "# 使用 cursor() 方法创建一个游标对象 cursor\n",
    "cursor = db.cursor()\n",
    " \n",
    "# 使用 execute()  方法执行 SQL 查询 \n",
    "cursor.execute(\"SELECT VERSION()\")\n",
    " \n",
    "# 使用 fetchone() 方法获取单条数据.\n",
    "data = cursor.fetchone()\n",
    " \n",
    "print (\"Database version : %s \" % data)\n",
    " \n",
    "# 关闭数据库连接\n",
    "db.close()"
   ]
  },
  {
   "cell_type": "code",
   "execution_count": 65,
   "metadata": {},
   "outputs": [
    {
     "data": {
      "text/plain": [
       "0"
      ]
     },
     "execution_count": 65,
     "metadata": {},
     "output_type": "execute_result"
    }
   ],
   "source": [
    "#!/usr/bin/python3\n",
    " \n",
    "import pymysql\n",
    " \n",
    "# 打开数据库连接\n",
    "db = pymysql.connect(\"127.0.0.1\",\"root\",\"mysecret1997\",\"mygopen\")\n",
    " \n",
    "# 使用 cursor() 方法创建一个游标对象 cursor\n",
    "cursor = db.cursor()\n",
    "\n",
    "# 使用 execute() 方法执行 SQL，如果表存在则删除\n",
    "cursor.execute(\"DROP TABLE IF EXISTS chrome_headless\")\n",
    " \n",
    "# 使用预处理语句创建表\n",
    "sql = \"\"\"CREATE TABLE chrome_headless (\n",
    "         title  TEXT,\n",
    "         href  TEXT)\"\"\"\n",
    " \n",
    "cursor.execute(sql)"
   ]
  },
  {
   "cell_type": "code",
   "execution_count": 66,
   "metadata": {},
   "outputs": [],
   "source": [
    "from selenium import webdriver\n",
    "from selenium.webdriver.support.ui import WebDriverWait\n",
    "import csv\n",
    "################chrome_headless######################\n",
    "from selenium.webdriver.chrome.options import Options\n",
    "chrome_options = Options()\n",
    "chrome_options.add_argument(\"--headless\")\n",
    "#####################################################\n",
    "get_title_and_href_dict = {}\n",
    "for i in range(1,4,1):\n",
    "    url = 'https://www.mygopen.com/search/label/%E8%AC%A0%E8%A8%80#archive-page-'+str(i)\n",
    "    driver = webdriver.Chrome(options=chrome_options)\n",
    "    driver.get(url)\n",
    "    driver.refresh()\n",
    "    WebDriverWait(driver,10).until(lambda d: d.find_elements_by_css_selector('.item-content .item-title a'))\n",
    "    a_tag = driver.find_elements_by_css_selector('.item-content .item-title a')\n",
    "    for j in range(len(a_tag)):\n",
    "        get_title_and_href_dict.update({'title':a_tag[j].text,'href':a_tag[j].get_attribute('href')})\n",
    "\n",
    "        #表名\n",
    "        table = \"chrome_headless\"\n",
    "        # 列的字段\n",
    "        keys = ', '.join(get_title_and_href_dict.keys())\n",
    "        # 行字段\n",
    "        values = ', '.join(['%s']*len(get_title_and_href_dict))\n",
    "        sql = 'INSERT INTO {table}({keys}) VALUES ({values})'.format(table=table, keys=keys, values=values)\n",
    "        # 将字段的value转化为元祖存入\n",
    "        cursor.execute(sql, tuple(get_title_and_href_dict.values()))\n",
    "        db.commit()\n",
    "        \n",
    "try:\n",
    "   # 执行sql语句\n",
    "   cursor.execute(sql)\n",
    "   # 提交到数据库执行\n",
    "   db.commit()\n",
    "except:\n",
    "   # 如果发生错误则回滚\n",
    "   db.rollback()\n",
    "\n",
    "# 关闭数据库连接\n",
    "db.close()"
   ]
  },
  {
   "cell_type": "code",
   "execution_count": null,
   "metadata": {},
   "outputs": [],
   "source": []
  }
 ],
 "metadata": {
  "kernelspec": {
   "display_name": "Python 3",
   "language": "python",
   "name": "python3"
  },
  "language_info": {
   "codemirror_mode": {
    "name": "ipython",
    "version": 3
   },
   "file_extension": ".py",
   "mimetype": "text/x-python",
   "name": "python",
   "nbconvert_exporter": "python",
   "pygments_lexer": "ipython3",
   "version": "3.7.3"
  }
 },
 "nbformat": 4,
 "nbformat_minor": 2
}
